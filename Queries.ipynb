{
 "cells": [
  {
   "cell_type": "markdown",
   "metadata": {},
   "source": [
    "#### ***Importing the libraries***"
   ]
  },
  {
   "cell_type": "code",
   "execution_count": 2,
   "metadata": {},
   "outputs": [],
   "source": [
    "import pandas as pd\n",
    "import numpy as np \n",
    "import pymongo\n",
    "import seaborn as sns\n",
    "import matplotlib.pyplot as plt"
   ]
  },
  {
   "cell_type": "markdown",
   "metadata": {},
   "source": [
    "#### ***Connection to MongoDB***"
   ]
  },
  {
   "cell_type": "code",
   "execution_count": 3,
   "metadata": {},
   "outputs": [],
   "source": [
    "client = pymongo.MongoClient(\"mongodb://localhost:27017/\")\n",
    "db = client[\"yelp\"]"
   ]
  },
  {
   "cell_type": "markdown",
   "metadata": {},
   "source": [
    "#### ***Queries***"
   ]
  },
  {
   "cell_type": "markdown",
   "metadata": {},
   "source": [
    "##### ***Query 1***\n",
    "\n",
    "A polarizing business is a one with high variance in star ratings. Find the most polarizing businesses in the category of restaurants; then, determine if user voting patterns (useful, funny, cool) correlate with the variance."
   ]
  },
  {
   "cell_type": "code",
   "execution_count": null,
   "metadata": {},
   "outputs": [],
   "source": [
    "query_results = db[\"reviews\"].aggregate([{ \n",
    "                                            \"$lookup\" : { \n",
    "                                                \"from\" : \"businesses\", \n",
    "                                                \"let\" : { \n",
    "                                                    \"business_id\" : \"$business_id\" \n",
    "                                                },\n",
    "                                                \"pipeline\" : [{\n",
    "                                                                 \"$match\" : { \n",
    "                                                                    \"$expr\" : { \n",
    "                                                                        \"$eq\" : [\"$business_id\", \"$$business_id\"] \n",
    "                                                                    },\n",
    "                                                                    \"categories\" : {\n",
    "                                                                        \"$regex\": \".*Restaurants.*\", \"$options\": \"i\"\n",
    "                                                                    }\n",
    "                                                                 }   \n",
    "                                                             }],\n",
    "                                                \"as\" : \"business\" \n",
    "                                            }\n",
    "                                        },                            \n",
    "                                        {\n",
    "                                            \"$unwind\" : \"$business\"\n",
    "                                        },                                        \n",
    "                                        { \n",
    "                                            \"$group\" :  { \n",
    "                                                \"_id\" : \"$business_id\", \n",
    "                                                \"business_name\" : {\n",
    "                                                    \"$first\": \"$business.name\"\n",
    "                                                },\n",
    "                                                \"avgStars\" : {\n",
    "                                                    \"$avg\": \"$stars\"\n",
    "                                                },\n",
    "                                                \"starVariance\" : {\n",
    "                                                    \"$stdDevPop\": \"$stars\"\n",
    "                                                },\n",
    "                                                \"totalUsefulVotes\" : {\n",
    "                                                    \"$sum\": \"$useful\"\n",
    "                                                },\n",
    "                                                \"totalFunnyVotes\" : {\n",
    "                                                    \"$sum\": \"$funny\"\n",
    "                                                },\n",
    "                                                \"totalCoolVotes\" : {\n",
    "                                                    \"$sum\": \"$cool\"\n",
    "                                                } \n",
    "                                            }\n",
    "                                        },\n",
    "                                        {\n",
    "                                            \"$match\": {\n",
    "                                                \"starVariance\": {\n",
    "                                                    \"$gt\": 1.5\n",
    "                                                }\n",
    "                                            }\n",
    "                                        },                                        \n",
    "                                        { \n",
    "                                            \"$project\": { \n",
    "                                                \"_id\": 0, \n",
    "                                                \"business_id\": \"$_id\", \n",
    "                                                \"business_name\": 1, \n",
    "                                                \"starVariance\": 1, \n",
    "                                                \"totalUsefulVotes\": 1, \n",
    "                                                \"totalFunnyVotes\": 1, \n",
    "                                                \"totalCoolVotes\": 1 \n",
    "                                            }\n",
    "                                        }])\n",
    "\n",
    "#Store the result in a DataFrame\n",
    "df = pd.DataFrame(query_results)"
   ]
  },
  {
   "cell_type": "code",
   "execution_count": null,
   "metadata": {},
   "outputs": [],
   "source": [
    "#Correlation analysis\n",
    "correlation_matrix = df[[\"starVariance\", \"totalUsefulVotes\", \"totalFunnyVotes\", \"totalCoolVotes\"]].corr()\n",
    "\n",
    "#Rename the columns\n",
    "\n",
    "print(\"Correlation Matrix:\")\n",
    "print(correlation_matrix)\n",
    "\n",
    "#Visualization of \"correltion matrix\"\n",
    "plt.figure(figsize=(8, 6))\n",
    "sns.heatmap(correlation_matrix, annot = True, cmap = \"coolwarm\", fmt=\".2f\")\n",
    "plt.title(\"Correlation Matrix of Star Variance and Voting Patterns\")\n",
    "plt.show()"
   ]
  },
  {
   "cell_type": "markdown",
   "metadata": {},
   "source": [
    "##### ***Query 2***"
   ]
  },
  {
   "cell_type": "markdown",
   "metadata": {},
   "source": [
    "For businesses that operate in different locations (we assume that these are the ones for which there are two objects in ```businesses``` collection with same ```name```, but different ```city```), determine which city performs the best in terms of average star ratings and review frequency. Then,explore whether this correlates with local competition."
   ]
  },
  {
   "cell_type": "code",
   "execution_count": null,
   "metadata": {},
   "outputs": [],
   "source": [
    "query_results = db[\"businesses\"].aggregate([{\n",
    "                                                \"$group\" : {\n",
    "                                                    \"_id\": \"$name\",\n",
    "                                                    \"locations\" : { \n",
    "                                                        \"$addToSet\" : {\n",
    "                                                            \"city\": \"$city\", \n",
    "                                                            \"business_id\": \"$business_id\" \n",
    "                                                        } \n",
    "                                                    },\n",
    "                                                    \"count\" : {\n",
    "                                                        \"$sum\" : 1 \n",
    "                                                    }\n",
    "                                                }\n",
    "                                            },\n",
    "                                            { \n",
    "                                                \"$match\" : { \n",
    "                                                    \"count\" : { \n",
    "                                                        \"$gte\" : 2 #Businesses having at least two different locations\n",
    "                                                    } \n",
    "                                                } \n",
    "                                            },\n",
    "                                            {\n",
    "                                                \"$unwind\" : \"$locations\"\n",
    "                                            },\n",
    "                                            {\n",
    "                                                \"$lookup\" : {\n",
    "                                                    \"from\" : \"reviews\",\n",
    "                                                    \"localField\" : \"locations.business_id\",\n",
    "                                                    \"foreignField\" : \"business_id\",\n",
    "                                                    \"as\": \"reviews\"\n",
    "                                                }\n",
    "                                            },\n",
    "                                            {\n",
    "                                                \"$unwind\" : \"$reviews\" \n",
    "                                            },\n",
    "                                            {\n",
    "                                                \"$group\" : {\n",
    "                                                    \"_id\" : {\n",
    "                                                        \"name\" : \"$_id\", \n",
    "                                                        \"city\" : \"$locations.city\" \n",
    "                                                    },\n",
    "                                                    \"avgStars\" : {\n",
    "                                                        \"$avg\": \"$reviews.stars\"\n",
    "                                                    },\n",
    "                                                    \"reviewCount\" : {\n",
    "                                                        \"$sum\" : 1\n",
    "                                                    },\n",
    "                                                    \"businessCount\" : {\n",
    "                                                        \"$addToSet\" : \"$reviews.business_id\"\n",
    "                                                    }\n",
    "                                                }\n",
    "                                            },\n",
    "                                            {\n",
    "                                                \"$addFields\" : {\n",
    "                                                    \"localCompetition\" : {\n",
    "                                                        \"$expr\" : {\n",
    "                                                            \"$subtract\" : [{\"$size\": \"$businessCount\"}, 1]}\n",
    "                                                    }\n",
    "                                                }\n",
    "                                            },\n",
    "                                            {\n",
    "                                                \"$project\" : {\n",
    "                                                    \"_id\": 0,\n",
    "                                                    \"business_name\": \"$_id.name\",\n",
    "                                                    \"city\": \"$_id.city\",\n",
    "                                                    \"avgStars\": 1,\n",
    "                                                    \"reviewCount\": 1,\n",
    "                                                    \"localCompetition\": 1\n",
    "                                                }\n",
    "                                            }])\n",
    "\n",
    "#Store the result in a DataFrame\n",
    "df = pd.DataFrame(query_results)"
   ]
  },
  {
   "cell_type": "code",
   "execution_count": 10,
   "metadata": {},
   "outputs": [
    {
     "name": "stdout",
     "output_type": "stream",
     "text": [
      "Correlation Matrix:\n",
      "                  avgStars  reviewCount  localCompetition\n",
      "avgStars          1.000000    -0.028139         -0.017127\n",
      "reviewCount      -0.028139     1.000000          0.834322\n",
      "localCompetition -0.017127     0.834322          1.000000\n"
     ]
    },
    {
     "data": {
      "image/png": "[encoded data removed]",
      "text/plain": [
       "<Figure size 800x600 with 2 Axes>"
      ]
     },
     "metadata": {},
     "output_type": "display_data"
    }
   ],
   "source": [
    "#Correlation analysis\n",
    "correlation_matrix = df[[\"avgStars\", \"reviewCount\", \"localCompetition\"]].corr()\n",
    "\n",
    "#TODO: rename the columns\n",
    "\n",
    "print(\"Correlation Matrix:\")\n",
    "print(correlation_matrix)\n",
    "\n",
    "#Visualization of \"correlation_matrix\"\n",
    "plt.figure(figsize=(8, 6))\n",
    "sns.heatmap(correlation_matrix, annot = True, cmap = \"coolwarm\", fmt = \".2f\")\n",
    "plt.title(\"Correlation Between Performance and Local Competition\")\n",
    "plt.show()"
   ]
  }
 ],
 "metadata": {
  "kernelspec": {
   "display_name": "base",
   "language": "python",
   "name": "python3"
  },
  "language_info": {
   "codemirror_mode": {
    "name": "ipython",
    "version": 3
   },
   "file_extension": ".py",
   "mimetype": "text/x-python",
   "name": "python",
   "nbconvert_exporter": "python",
   "pygments_lexer": "ipython3",
   "version": "3.12.7"
  }
 },
 "nbformat": 4,
 "nbformat_minor": 2
}
